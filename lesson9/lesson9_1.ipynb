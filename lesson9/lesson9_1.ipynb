{
 "cells": [
  {
   "cell_type": "code",
   "execution_count": 8,
   "metadata": {},
   "outputs": [],
   "source": [
    "import tensorflow as tf\n",
    "import numpy as np"
   ]
  },
  {
   "cell_type": "code",
   "execution_count": 2,
   "metadata": {},
   "outputs": [],
   "source": [
    "x = [-1, 0, 1, 2, 3, 4]\n",
    "y = [-3, -1, 1, 3, 5, 7]"
   ]
  },
  {
   "cell_type": "code",
   "execution_count": 7,
   "metadata": {},
   "outputs": [
    {
     "data": {
      "text/plain": [
       "[-2, 0, 2, 4, 6, 8]"
      ]
     },
     "execution_count": 7,
     "metadata": {},
     "output_type": "execute_result"
    }
   ],
   "source": [
    "new_x = []\n",
    "for item in x:\n",
    "\n",
    "    new_x.append(item*2)\n",
    "new_x"
   ]
  },
  {
   "cell_type": "code",
   "execution_count": 11,
   "metadata": {},
   "outputs": [
    {
     "data": {
      "text/plain": [
       "array([-1,  0,  1,  2,  3,  4])"
      ]
     },
     "metadata": {},
     "output_type": "display_data"
    },
    {
     "data": {
      "text/plain": [
       "array([-3, -1,  1,  3,  5,  7])"
      ]
     },
     "metadata": {},
     "output_type": "display_data"
    }
   ],
   "source": [
    "xs = np.array(x) #numpy 陣列運算 所有list 轉成np\n",
    "ys = np.array(y)\n",
    "display(xs)\n",
    "display(ys)"
   ]
  },
  {
   "cell_type": "code",
   "execution_count": null,
   "metadata": {},
   "outputs": [],
   "source": [
    "l0 = tf.keras.layers.Dense(units=1, input_shape=[1])\n",
    "model = tf.keras.Sequential([l0])\n",
    "model.compile(optimizer='sgd', loss='mean_squared_error') \n",
    "        #optimizer優化器 'sgd'演算法 loss損失Function 'mean_squared_error'演算法\n",
    "x = [-1, 0, 1, 2, 3, 4]\n",
    "y = [-3, -1, 1, 3, 5, 7]\n",
    "xs = np.array(x, dtype=float)\n",
    "ys = np.array(y, dtype=float)\n",
    "\n",
    "model.fit(xs, ys, epochs=500)"
   ]
  },
  {
   "cell_type": "code",
   "execution_count": null,
   "metadata": {},
   "outputs": [],
   "source": [
    "predict_value = model.predict(np.array([18.0]))\n",
    "print(predict_value[0,0])\n",
    "round(float(predict_value[0,0]))"
   ]
  },
  {
   "cell_type": "code",
   "execution_count": 34,
   "metadata": {},
   "outputs": [
    {
     "name": "stdout",
     "output_type": "stream",
     "text": [
      "5.94418483337567\n",
      "1.8257418583505538\n"
     ]
    }
   ],
   "source": [
    "import statistics  #標準差\n",
    "print(statistics.stdev([0, 5, 9, 14]))\n",
    "print(statistics.stdev([5, 6, 8, 9]))"
   ]
  },
  {
   "cell_type": "code",
   "execution_count": null,
   "metadata": {},
   "outputs": [],
   "source": [
    "import streamlit as st\n",
    "from streamlit_clickable_images import clickable_images\n",
    "import tensorflow as tf\n",
    "import numpy as np\n",
    "import matplotlib.pyplot as plt\n",
    "import io\n",
    "import base64\n",
    "\n",
    "# Class names for Fashion MNIST\n",
    "class_names = ['T-shirt/top', 'Trouser', 'Pullover', 'Dress', 'Coat',\n",
    "               'Sandal', 'Shirt', 'Sneaker', 'Bag', 'Ankle boot']\n",
    "\n",
    "def load_model():\n",
    "    \"\"\"Load the trained model\"\"\"\n",
    "    model = tf.keras.Sequential([\n",
    "        tf.keras.layers.Flatten(input_shape=(28, 28)),\n",
    "        tf.keras.layers.Dense(128, activation='relu'),\n",
    "        tf.keras.layers.Dense(10, activation='softmax')\n",
    "    ])\n",
    "    \n",
    "    model.compile(optimizer='adam',\n",
    "                 loss='sparse_categorical_crossentropy',\n",
    "                 metrics=['accuracy'])\n",
    "    \n",
    "    return model\n",
    "\n",
    "def convert_image_to_base64(image_array):\n",
    "    \"\"\"Convert numpy array to base64 string\"\"\"\n",
    "    plt.figure(figsize=(3, 3))\n",
    "    plt.imshow(image_array, cmap='gray')\n",
    "    plt.axis('off')\n",
    "    \n",
    "    # Save the plot to a buffer\n",
    "    buf = io.BytesIO()\n",
    "    plt.savefig(buf, format='png', bbox_inches='tight', pad_inches=0)\n",
    "    plt.close()\n",
    "    \n",
    "    # Convert to base64\n",
    "    buf.seek(0)\n",
    "    image_base64 = base64.b64encode(buf.getvalue()).decode()\n",
    "    return f\"data:image/png;base64,{image_base64}\"\n",
    "\n",
    "def main():\n",
    "    st.title(\"Fashion MNIST Classifier\")\n",
    "    st.write(\"Click on any image to see its prediction!\")\n",
    "\n",
    "    # Load the model\n",
    "    model = load_model()\n",
    "\n",
    "    # Load Fashion MNIST dataset\n",
    "    (_, _), (test_images, test_labels) = tf.keras.datasets.fashion_mnist.load_data()\n",
    "    \n",
    "    # Select first 25 test images\n",
    "    display_images = test_images[:25]\n",
    "    display_labels = test_labels[:25]\n",
    "\n",
    "    # Convert images to base64 strings\n",
    "    image_paths = [convert_image_to_base64(img) for img in display_images]\n",
    "\n",
    "    # Create columns for layout\n",
    "    col1, col2 = st.columns([2, 1])\n",
    "\n",
    "    with col1:\n",
    "        # Display clickable image grid\n",
    "        clicked = clickable_images(\n",
    "            image_paths,\n",
    "            titles=[f\"Image {i+1}\" for i in range(len(image_paths))],\n",
    "            div_style={\"display\": \"grid\", \"grid-template-columns\": \"repeat(5, 1fr)\", \"gap\": \"10px\"},\n",
    "            img_style={\"cursor\": \"pointer\", \"border-radius\": \"5px\", \n",
    "                      \"transition\": \"transform 0.3s\", \"width\": \"100%\"}\n",
    "        )\n",
    "\n",
    "    # Display prediction in the second column\n",
    "    with col2:\n",
    "        if clicked > -1:  # If an image was clicked\n",
    "            st.write(\"### Selected Image\")\n",
    "            selected_image = display_images[clicked]\n",
    "            st.image(selected_image, caption=f'Image {clicked + 1}', width=200)\n",
    "            \n",
    "            # Preprocess and predict\n",
    "            processed_image = selected_image / 255.0\n",
    "            prediction = model.predict(processed_image.reshape(1, 28, 28))\n",
    "            predicted_class = np.argmax(prediction)\n",
    "            actual_class = display_labels[clicked]\n",
    "            \n",
    "            st.write(\"### Prediction Results\")\n",
    "            st.write(f\"Predicted: **{class_names[predicted_class]}**\")\n",
    "            st.write(f\"Actual: **{class_names[actual_class]}**\")\n",
    "            \n",
    "            # Show prediction probabilities\n",
    "            st.write(\"### Confidence Scores\")\n",
    "            for i, prob in enumerate(prediction[0]):\n",
    "                st.progress(float(prob))\n",
    "                st.write(f\"{class_names[i]}: {prob*100:.1f}%\")\n",
    "\n",
    "if __name__ == '__main__':\n",
    "    main()"
   ]
  }
 ],
 "metadata": {
  "kernelspec": {
   "display_name": "tensor",
   "language": "python",
   "name": "python3"
  },
  "language_info": {
   "codemirror_mode": {
    "name": "ipython",
    "version": 3
   },
   "file_extension": ".py",
   "mimetype": "text/x-python",
   "name": "python",
   "nbconvert_exporter": "python",
   "pygments_lexer": "ipython3",
   "version": "3.9.21"
  }
 },
 "nbformat": 4,
 "nbformat_minor": 2
}
